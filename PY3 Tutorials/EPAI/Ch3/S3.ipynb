{
 "cells": [
  {
   "cell_type": "markdown",
   "metadata": {},
   "source": [
    "<h1 align='center'> Numeric Types</h1>\n",
    "\n",
    "- [X] Integer Data Types\n",
    "- [X] Integer Operations\n",
    "- [X] Integer Constructors and Bases\n",
    "- [X] Rational Numbers\n",
    "- [X] Floats Internal Representation\n",
    "- [X] Floats Coercing to Integer\n",
    "- [X] Floats Rounding"
   ]
  },
  {
   "cell_type": "markdown",
   "metadata": {},
   "source": [
    "# Integer Data Types"
   ]
  },
  {
   "cell_type": "code",
   "execution_count": 1,
   "metadata": {},
   "outputs": [],
   "source": [
    "import os \n",
    "import sys \n",
    "import ctypes\n",
    "import decimal"
   ]
  },
  {
   "cell_type": "code",
   "execution_count": 2,
   "metadata": {},
   "outputs": [],
   "source": [
    "# clear_all = lambda: os.system('cls') #clear terminal"
   ]
  },
  {
   "cell_type": "code",
   "execution_count": 3,
   "metadata": {},
   "outputs": [
    {
     "name": "stdout",
     "output_type": "stream",
     "text": [
      "<class 'int'>\n"
     ]
    }
   ],
   "source": [
    "# Integer DataType\n",
    "\n",
    "print(type(69))"
   ]
  },
  {
   "cell_type": "code",
   "execution_count": 4,
   "metadata": {},
   "outputs": [
    {
     "name": "stdout",
     "output_type": "stream",
     "text": [
      "28\n",
      "28\n",
      "28\n"
     ]
    }
   ],
   "source": [
    "# size doesn't matter\n",
    "\n",
    "print(sys.getsizeof(0))\n",
    "\n",
    "print(sys.getsizeof(69))\n",
    "\n",
    "print(sys.getsizeof(2*10000))"
   ]
  },
  {
   "cell_type": "code",
   "execution_count": 5,
   "metadata": {},
   "outputs": [
    {
     "name": "stdout",
     "output_type": "stream",
     "text": [
      "13 ns ± 0.386 ns per loop (mean ± std. dev. of 7 runs, 100,000,000 loops each)\n"
     ]
    },
    {
     "data": {
      "text/plain": [
       "20"
      ]
     },
     "execution_count": 5,
     "metadata": {},
     "output_type": "execute_result"
    }
   ],
   "source": [
    "%timeit 100000000000\n",
    "2*10"
   ]
  },
  {
   "cell_type": "code",
   "execution_count": 6,
   "metadata": {},
   "outputs": [
    {
     "name": "stdout",
     "output_type": "stream",
     "text": [
      "12.3 ns ± 0.08 ns per loop (mean ± std. dev. of 7 runs, 100,000,000 loops each)\n"
     ]
    },
    {
     "data": {
      "text/plain": [
       "200"
      ]
     },
     "execution_count": 6,
     "metadata": {},
     "output_type": "execute_result"
    }
   ],
   "source": [
    "%timeit 100000000000\n",
    "2*100"
   ]
  },
  {
   "cell_type": "code",
   "execution_count": 7,
   "metadata": {},
   "outputs": [
    {
     "name": "stdout",
     "output_type": "stream",
     "text": [
      "12.2 ns ± 0.0781 ns per loop (mean ± std. dev. of 7 runs, 100,000,000 loops each)\n"
     ]
    },
    {
     "data": {
      "text/plain": [
       "200000000000000"
      ]
     },
     "execution_count": 7,
     "metadata": {},
     "output_type": "execute_result"
    }
   ],
   "source": [
    "%timeit 100000000000\n",
    "2*100000000000000"
   ]
  },
  {
   "cell_type": "code",
   "execution_count": 8,
   "metadata": {},
   "outputs": [
    {
     "name": "stdout",
     "output_type": "stream",
     "text": [
      "type(10+1)  :: <class 'int'>\n",
      "type(10-1)  :: <class 'int'>\n",
      "type(10*1)  :: <class 'int'>\n",
      "type(10/1)  :: <class 'float'>\n",
      "type(10//1) :: <class 'int'>\n",
      "type(-10//1):: <class 'int'>\n"
     ]
    }
   ],
   "source": [
    "print(f\"type(10+1)  :: {type(10+1)}\")\n",
    "print(f\"type(10-1)  :: {type(10-1)}\")\n",
    "print(f\"type(10*1)  :: {type(10*1)}\")\n",
    "print(f\"type(10/1)  :: {type(10/1)}\")\n",
    "print(f\"type(10//1) :: {type(10//1)}\")     # quotient operator\n",
    "print(f\"type(-10//1):: {type(-10//1)}\") "
   ]
  },
  {
   "cell_type": "code",
   "execution_count": 9,
   "metadata": {},
   "outputs": [
    {
     "name": "stdout",
     "output_type": "stream",
     "text": [
      "math.floor(3.15):: 3\n",
      "math.floor(-3.15)::-4\n",
      "3.9999999999999999999999999999999999999999999999999999999            ::4.0000000000000000000000000\n",
      "math.floor(3.9999999999999999999999999999999999999999999999999999999)::4\n",
      "math.ceil(3.15):: 4\n",
      "math.ceil(-3.15)::-3\n",
      "int(3.9999999999999999999999999999999999999999999999999999999)        :: 4\n",
      "-3.9999999999999999999999999999999999999999999999999999999            ::-4.0000000000000000000000000\n",
      "math.floor(-3.9999999999999999999999999999999999999999999999999999999)::-4\n"
     ]
    }
   ],
   "source": [
    "# floor takes close to zero for (+ve) and take away from zero (-ve number)  i.e) left side of the number\n",
    "\n",
    "import math \n",
    "\n",
    "\n",
    "# normal behaviour\n",
    "\n",
    "print(f\"math.floor(3.15):: {math.floor(3.15)}\")\n",
    "print(f\"math.floor(-3.15)::{math.floor(-3.15)}\")\n",
    "\n",
    "# weird behaviour\n",
    "print(f\"3.9999999999999999999999999999999999999999999999999999999            ::{3.9999999999999999999999999999999999999999999999999999999:.25f}\")\n",
    "print(f\"math.floor(3.9999999999999999999999999999999999999999999999999999999)::{math.floor(3.9999999999999999999999999999999999999999999999999999999)}\")\n",
    "\n",
    "\n",
    "\n",
    "print(f\"math.ceil(3.15):: {math.ceil(3.15)}\")\n",
    "print(f\"math.ceil(-3.15)::{math.ceil(-3.15)}\")\n",
    "\n",
    "\n",
    "print(f\"int(3.9999999999999999999999999999999999999999999999999999999)        :: {int(3.9999999999999999999999999999999999999999999999999999999)}\")\n",
    "# weird behaviour\n",
    "print(f\"-3.9999999999999999999999999999999999999999999999999999999            ::{-3.9999999999999999999999999999999999999999999999999999999:.25f}\")\n",
    "print(f\"math.floor(-3.9999999999999999999999999999999999999999999999999999999)::{math.floor(-3.9999999999999999999999999999999999999999999999999999999)}\")"
   ]
  },
  {
   "cell_type": "markdown",
   "metadata": {},
   "source": [
    "# Integer Operations"
   ]
  },
  {
   "cell_type": "markdown",
   "metadata": {},
   "source": [
    "$$a = b*(a//b)+ (a\\%b)$$"
   ]
  },
  {
   "cell_type": "code",
   "execution_count": 10,
   "metadata": {},
   "outputs": [
    {
     "name": "stdout",
     "output_type": "stream",
     "text": [
      "13/4  = 3.25\n",
      "13//4 = 3\n",
      "13%4  = 1\n",
      "a==b*(a//b)+(a%b) :: True\n"
     ]
    }
   ],
   "source": [
    "a = 13\n",
    "b = 4 \n",
    "\n",
    "print(f\"{a}/{b}  = {a/b}\")\n",
    "print(f\"{a}//{b} = {a//b}\")\n",
    "print(f\"{a}%{b}  = {a%b}\")\n",
    "print(f\"a==b*(a//b)+(a%b) :: {a==b*(a//b)+(a%b)}\")\n"
   ]
  },
  {
   "cell_type": "code",
   "execution_count": 11,
   "metadata": {},
   "outputs": [
    {
     "name": "stdout",
     "output_type": "stream",
     "text": [
      "-13/4  = -3.25\n",
      "-13//4 = -4\n",
      "-13%4  = 3\n",
      "a==b*(a//b)+(a%b) :: True\n"
     ]
    }
   ],
   "source": [
    "a = -13\n",
    "b = 4 \n",
    "\n",
    "print(f\"{a}/{b}  = {a/b}\")\n",
    "print(f\"{a}//{b} = {a//b}\")\n",
    "print(f\"{a}%{b}  = {a%b}\")\n",
    "print(f\"a==b*(a//b)+(a%b) :: {a==b*(a//b)+(a%b)}\")"
   ]
  },
  {
   "cell_type": "code",
   "execution_count": 12,
   "metadata": {},
   "outputs": [
    {
     "name": "stdout",
     "output_type": "stream",
     "text": [
      "13/-4  = -3.25\n",
      "13//-4 = -4\n",
      "13%-4  = -3\n",
      "a==b*(a//b)+(a%b) :: True\n"
     ]
    }
   ],
   "source": [
    "a = 13\n",
    "b = -4 \n",
    "\n",
    "print(f\"{a}/{b}  = {a/b}\")\n",
    "print(f\"{a}//{b} = {a//b}\")\n",
    "print(f\"{a}%{b}  = {a%b}\")\n",
    "print(f\"a==b*(a//b)+(a%b) :: {a==b*(a//b)+(a%b)}\")"
   ]
  },
  {
   "cell_type": "code",
   "execution_count": 13,
   "metadata": {},
   "outputs": [
    {
     "name": "stdout",
     "output_type": "stream",
     "text": [
      "-13/-4  = 3.25\n",
      "-13//-4 = 3\n",
      "-13%-4  = -1\n",
      "a==b*(a//b)+(a%b) :: True\n"
     ]
    }
   ],
   "source": [
    "a = -13\n",
    "b = -4 \n",
    "\n",
    "print(f\"{a}/{b}  = {a/b}\")\n",
    "print(f\"{a}//{b} = {a//b}\")\n",
    "print(f\"{a}%{b}  = {a%b}\")\n",
    "print(f\"a==b*(a//b)+(a%b) :: {a==b*(a//b)+(a%b)}\")"
   ]
  },
  {
   "cell_type": "code",
   "execution_count": 14,
   "metadata": {},
   "outputs": [],
   "source": [
    "import fractions"
   ]
  },
  {
   "cell_type": "code",
   "execution_count": 15,
   "metadata": {},
   "outputs": [
    {
     "name": "stdout",
     "output_type": "stream",
     "text": [
      "fraction:: 22/7\n",
      "float   :: 3.142857142857143\n"
     ]
    }
   ],
   "source": [
    "phi= fractions.Fraction(22,7)\n",
    "print(f\"fraction:: {phi}\")\n",
    "print(f\"float   :: {float(phi)}\")"
   ]
  },
  {
   "cell_type": "markdown",
   "metadata": {},
   "source": [
    "# Integer Constructors and Bases"
   ]
  },
  {
   "cell_type": "code",
   "execution_count": 16,
   "metadata": {},
   "outputs": [
    {
     "data": {
      "text/plain": [
       "255"
      ]
     },
     "execution_count": 16,
     "metadata": {},
     "output_type": "execute_result"
    }
   ],
   "source": [
    "int('FF',base=16)"
   ]
  },
  {
   "cell_type": "code",
   "execution_count": 17,
   "metadata": {},
   "outputs": [
    {
     "data": {
      "text/plain": [
       "94"
      ]
     },
     "execution_count": 17,
     "metadata": {},
     "output_type": "execute_result"
    }
   ],
   "source": [
    "int('1011110',base=2)"
   ]
  },
  {
   "cell_type": "code",
   "execution_count": 18,
   "metadata": {},
   "outputs": [
    {
     "data": {
      "text/plain": [
       "'0b1011110'"
      ]
     },
     "execution_count": 18,
     "metadata": {},
     "output_type": "execute_result"
    }
   ],
   "source": [
    "bin(94)"
   ]
  },
  {
   "cell_type": "code",
   "execution_count": 19,
   "metadata": {},
   "outputs": [
    {
     "data": {
      "text/plain": [
       "'0xff'"
      ]
     },
     "execution_count": 19,
     "metadata": {},
     "output_type": "execute_result"
    }
   ],
   "source": [
    "hex(255)"
   ]
  },
  {
   "cell_type": "code",
   "execution_count": 20,
   "metadata": {},
   "outputs": [],
   "source": [
    "def from_base10(number:int, base:int):\n",
    "    if number==0:\n",
    "        return [0]\n",
    "    if base<2:\n",
    "        raise ValueError(\"Base b must be >= 2\")\n",
    "    if number<0:\n",
    "        raise ValueError(\"Number must be greater than 0\")\n",
    "    \n",
    "    digits:list=[]\n",
    "    while number>0:\n",
    "        m = number%base\n",
    "        number = number//base\n",
    "        digits.insert(0,m)  #(index,object)\n",
    "\n",
    "    return digits"
   ]
  },
  {
   "cell_type": "code",
   "execution_count": 21,
   "metadata": {},
   "outputs": [
    {
     "data": {
      "text/plain": [
       "[1, 0, 1, 0]"
      ]
     },
     "execution_count": 21,
     "metadata": {},
     "output_type": "execute_result"
    }
   ],
   "source": [
    "from_base10(10,2)"
   ]
  },
  {
   "cell_type": "code",
   "execution_count": 22,
   "metadata": {},
   "outputs": [
    {
     "data": {
      "text/plain": [
       "[15, 15]"
      ]
     },
     "execution_count": 22,
     "metadata": {},
     "output_type": "execute_result"
    }
   ],
   "source": [
    "from_base10(255,16)"
   ]
  },
  {
   "cell_type": "code",
   "execution_count": 23,
   "metadata": {},
   "outputs": [],
   "source": [
    "# encoding function\n",
    "\n",
    "def encode(digits:list[int],digit_map:str):\n",
    "    if max(digits)>=len(digit_map):\n",
    "        raise ValueError('digit_map is not long enough to encode the digits')\n",
    "    \n",
    "\n",
    "    # return ''.join([digit_map[d] for d in digits])  # list comprehension\n",
    "    encoding:str=''\n",
    "    for d in digits:                    # looping every number in list\n",
    "        encoding += digit_map[d]        # checking in string which element occupies that position\n",
    "    return encoding"
   ]
  },
  {
   "cell_type": "code",
   "execution_count": 24,
   "metadata": {},
   "outputs": [
    {
     "data": {
      "text/plain": [
       "'😄27😂'"
      ]
     },
     "execution_count": 24,
     "metadata": {},
     "output_type": "execute_result"
    }
   ],
   "source": [
    "encode([15,1,6,12],'1234567890😀😁😂🤣😃😄')"
   ]
  },
  {
   "cell_type": "markdown",
   "metadata": {},
   "source": [
    "# Rational Numbers"
   ]
  },
  {
   "cell_type": "code",
   "execution_count": 25,
   "metadata": {},
   "outputs": [
    {
     "data": {
      "text/plain": [
       "Fraction(123, 13)"
      ]
     },
     "execution_count": 25,
     "metadata": {},
     "output_type": "execute_result"
    }
   ],
   "source": [
    "fractions.Fraction('123/13')"
   ]
  },
  {
   "cell_type": "code",
   "execution_count": 26,
   "metadata": {},
   "outputs": [
    {
     "name": "stdout",
     "output_type": "stream",
     "text": [
      "5404319552844595/18014398509481984 :: 0.2999999999999999888977698\n",
      "5404319552844595/18014398509481984 :: 0.300\n"
     ]
    }
   ],
   "source": [
    "a = fractions.Fraction(0.3)\n",
    "\n",
    "print(f\"{a} :: {a:.25f}\")\n",
    "print(f\"{a} :: {a:.3f}\")"
   ]
  },
  {
   "cell_type": "code",
   "execution_count": 27,
   "metadata": {},
   "outputs": [
    {
     "name": "stdout",
     "output_type": "stream",
     "text": [
      "1/3 :: 0.3333333333333333\n",
      "3/10 :: 0.3\n",
      "2702159776422299/9007199254740997 :: 0.3\n"
     ]
    }
   ],
   "source": [
    "a = fractions.Fraction(0.3)\n",
    "a = a.limit_denominator(4)\n",
    "print(f\"{a} :: {float(a)}\")\n",
    "\n",
    "\n",
    "a = fractions.Fraction(0.3)\n",
    "a = a.limit_denominator(50)\n",
    "print(f\"{a} :: {float(a)}\")\n",
    "\n",
    "\n",
    "a = fractions.Fraction(0.3)\n",
    "a = a.limit_denominator(18014398509481920)\n",
    "print(f\"{a} :: {float(a)}\")"
   ]
  },
  {
   "cell_type": "code",
   "execution_count": 28,
   "metadata": {},
   "outputs": [
    {
     "data": {
      "text/plain": [
       "Fraction(157, 50)"
      ]
     },
     "execution_count": 28,
     "metadata": {},
     "output_type": "execute_result"
    }
   ],
   "source": [
    "fractions.Fraction('3.14')  #?? why not 22,7 # always look for biggger denominator "
   ]
  },
  {
   "cell_type": "code",
   "execution_count": 29,
   "metadata": {},
   "outputs": [
    {
     "data": {
      "text/plain": [
       "Fraction(17, 12)"
      ]
     },
     "execution_count": 29,
     "metadata": {},
     "output_type": "execute_result"
    }
   ],
   "source": [
    "a = fractions.Fraction(2,3)\n",
    "b = fractions.Fraction(3,4)\n",
    "a+b"
   ]
  },
  {
   "cell_type": "code",
   "execution_count": 30,
   "metadata": {},
   "outputs": [
    {
     "data": {
      "text/plain": [
       "Fraction(-1, 4)"
      ]
     },
     "execution_count": 30,
     "metadata": {},
     "output_type": "execute_result"
    }
   ],
   "source": [
    "a = fractions.Fraction(1,-4)\n",
    "a  # negative moves to numerator"
   ]
  },
  {
   "cell_type": "markdown",
   "metadata": {},
   "source": [
    "# Float Representation"
   ]
  },
  {
   "cell_type": "code",
   "execution_count": 31,
   "metadata": {},
   "outputs": [
    {
     "name": "stdout",
     "output_type": "stream",
     "text": [
      "Help on class float in module builtins:\n",
      "\n",
      "class float(object)\n",
      " |  float(x=0, /)\n",
      " |\n",
      " |  Convert a string or number to a floating point number, if possible.\n",
      " |\n",
      " |  Methods defined here:\n",
      " |\n",
      " |  __abs__(self, /)\n",
      " |      abs(self)\n",
      " |\n",
      " |  __add__(self, value, /)\n",
      " |      Return self+value.\n",
      " |\n",
      " |  __bool__(self, /)\n",
      " |      True if self else False\n",
      " |\n",
      " |  __ceil__(self, /)\n",
      " |      Return the ceiling as an Integral.\n",
      " |\n",
      " |  __divmod__(self, value, /)\n",
      " |      Return divmod(self, value).\n",
      " |\n",
      " |  __eq__(self, value, /)\n",
      " |      Return self==value.\n",
      " |\n",
      " |  __float__(self, /)\n",
      " |      float(self)\n",
      " |\n",
      " |  __floor__(self, /)\n",
      " |      Return the floor as an Integral.\n",
      " |\n",
      " |  __floordiv__(self, value, /)\n",
      " |      Return self//value.\n",
      " |\n",
      " |  __format__(self, format_spec, /)\n",
      " |      Formats the float according to format_spec.\n",
      " |\n",
      " |  __ge__(self, value, /)\n",
      " |      Return self>=value.\n",
      " |\n",
      " |  __getattribute__(self, name, /)\n",
      " |      Return getattr(self, name).\n",
      " |\n",
      " |  __getnewargs__(self, /)\n",
      " |\n",
      " |  __gt__(self, value, /)\n",
      " |      Return self>value.\n",
      " |\n",
      " |  __hash__(self, /)\n",
      " |      Return hash(self).\n",
      " |\n",
      " |  __int__(self, /)\n",
      " |      int(self)\n",
      " |\n",
      " |  __le__(self, value, /)\n",
      " |      Return self<=value.\n",
      " |\n",
      " |  __lt__(self, value, /)\n",
      " |      Return self<value.\n",
      " |\n",
      " |  __mod__(self, value, /)\n",
      " |      Return self%value.\n",
      " |\n",
      " |  __mul__(self, value, /)\n",
      " |      Return self*value.\n",
      " |\n",
      " |  __ne__(self, value, /)\n",
      " |      Return self!=value.\n",
      " |\n",
      " |  __neg__(self, /)\n",
      " |      -self\n",
      " |\n",
      " |  __pos__(self, /)\n",
      " |      +self\n",
      " |\n",
      " |  __pow__(self, value, mod=None, /)\n",
      " |      Return pow(self, value, mod).\n",
      " |\n",
      " |  __radd__(self, value, /)\n",
      " |      Return value+self.\n",
      " |\n",
      " |  __rdivmod__(self, value, /)\n",
      " |      Return divmod(value, self).\n",
      " |\n",
      " |  __repr__(self, /)\n",
      " |      Return repr(self).\n",
      " |\n",
      " |  __rfloordiv__(self, value, /)\n",
      " |      Return value//self.\n",
      " |\n",
      " |  __rmod__(self, value, /)\n",
      " |      Return value%self.\n",
      " |\n",
      " |  __rmul__(self, value, /)\n",
      " |      Return value*self.\n",
      " |\n",
      " |  __round__(self, ndigits=None, /)\n",
      " |      Return the Integral closest to x, rounding half toward even.\n",
      " |\n",
      " |      When an argument is passed, work like built-in round(x, ndigits).\n",
      " |\n",
      " |  __rpow__(self, value, mod=None, /)\n",
      " |      Return pow(value, self, mod).\n",
      " |\n",
      " |  __rsub__(self, value, /)\n",
      " |      Return value-self.\n",
      " |\n",
      " |  __rtruediv__(self, value, /)\n",
      " |      Return value/self.\n",
      " |\n",
      " |  __sub__(self, value, /)\n",
      " |      Return self-value.\n",
      " |\n",
      " |  __truediv__(self, value, /)\n",
      " |      Return self/value.\n",
      " |\n",
      " |  __trunc__(self, /)\n",
      " |      Return the Integral closest to x between 0 and x.\n",
      " |\n",
      " |  as_integer_ratio(self, /)\n",
      " |      Return a pair of integers, whose ratio is exactly equal to the original float.\n",
      " |\n",
      " |      The ratio is in lowest terms and has a positive denominator.  Raise\n",
      " |      OverflowError on infinities and a ValueError on NaNs.\n",
      " |\n",
      " |      >>> (10.0).as_integer_ratio()\n",
      " |      (10, 1)\n",
      " |      >>> (0.0).as_integer_ratio()\n",
      " |      (0, 1)\n",
      " |      >>> (-.25).as_integer_ratio()\n",
      " |      (-1, 4)\n",
      " |\n",
      " |  conjugate(self, /)\n",
      " |      Return self, the complex conjugate of any float.\n",
      " |\n",
      " |  hex(self, /)\n",
      " |      Return a hexadecimal representation of a floating-point number.\n",
      " |\n",
      " |      >>> (-0.1).hex()\n",
      " |      '-0x1.999999999999ap-4'\n",
      " |      >>> 3.14159.hex()\n",
      " |      '0x1.921f9f01b866ep+1'\n",
      " |\n",
      " |  is_integer(self, /)\n",
      " |      Return True if the float is an integer.\n",
      " |\n",
      " |  ----------------------------------------------------------------------\n",
      " |  Class methods defined here:\n",
      " |\n",
      " |  __getformat__(typestr, /)\n",
      " |      You probably don't want to use this function.\n",
      " |\n",
      " |        typestr\n",
      " |          Must be 'double' or 'float'.\n",
      " |\n",
      " |      It exists mainly to be used in Python's test suite.\n",
      " |\n",
      " |      This function returns whichever of 'unknown', 'IEEE, big-endian' or 'IEEE,\n",
      " |      little-endian' best describes the format of floating point numbers used by the\n",
      " |      C type named by typestr.\n",
      " |\n",
      " |  fromhex(string, /)\n",
      " |      Create a floating-point number from a hexadecimal string.\n",
      " |\n",
      " |      >>> float.fromhex('0x1.ffffp10')\n",
      " |      2047.984375\n",
      " |      >>> float.fromhex('-0x1p-1074')\n",
      " |      -5e-324\n",
      " |\n",
      " |  ----------------------------------------------------------------------\n",
      " |  Static methods defined here:\n",
      " |\n",
      " |  __new__(*args, **kwargs)\n",
      " |      Create and return a new object.  See help(type) for accurate signature.\n",
      " |\n",
      " |  ----------------------------------------------------------------------\n",
      " |  Data descriptors defined here:\n",
      " |\n",
      " |  imag\n",
      " |      the imaginary part of a complex number\n",
      " |\n",
      " |  real\n",
      " |      the real part of a complex number\n",
      "\n"
     ]
    }
   ],
   "source": [
    "help(float)"
   ]
  },
  {
   "cell_type": "code",
   "execution_count": 32,
   "metadata": {},
   "outputs": [
    {
     "name": "stdout",
     "output_type": "stream",
     "text": [
      "0.1::: 0.100\n",
      "0.1::: 0.100000000000000005551115123126\n"
     ]
    }
   ],
   "source": [
    "print(f\"0.1::: {.1:.3f}\")\n",
    "print(f\"0.1::: {.1:.30f}\")"
   ]
  },
  {
   "cell_type": "markdown",
   "metadata": {},
   "source": [
    "'abc.def' $$a*2^{2}+b*2^{1}+c*2^{0} .( {d\\div{2^{0}}} ) + ({e\\div{2^{1}}} )+( {f\\div{2^{2}}} ) $$"
   ]
  },
  {
   "cell_type": "code",
   "execution_count": 33,
   "metadata": {},
   "outputs": [
    {
     "name": "stdout",
     "output_type": "stream",
     "text": [
      "x    ::0.30000000000000004\n",
      "y    ::0.3\n",
      "x==y ::False\n",
      "rounding:x==y ::True\n"
     ]
    }
   ],
   "source": [
    "x = .1 +.1+ .1\n",
    "y = .3 \n",
    "\n",
    "print(f\"x    ::{x}\")\n",
    "print(f\"y    ::{y}\")\n",
    "print(f\"x==y ::{x==y}\")\n",
    "\n",
    "print(f\"rounding:x==y ::{round(x,3)==round(y,3)}\")"
   ]
  },
  {
   "cell_type": "code",
   "execution_count": 34,
   "metadata": {},
   "outputs": [],
   "source": [
    "a  =  10000.001\n",
    "b  =  10000.002 # relative\n",
    "\n",
    "a  = 0.001\n",
    "b  = 0.002 # absolute "
   ]
  },
  {
   "cell_type": "code",
   "execution_count": 35,
   "metadata": {},
   "outputs": [
    {
     "data": {
      "text/plain": [
       "False"
      ]
     },
     "execution_count": 35,
     "metadata": {},
     "output_type": "execute_result"
    }
   ],
   "source": [
    "math.isclose(a,b)"
   ]
  },
  {
   "cell_type": "code",
   "execution_count": 36,
   "metadata": {},
   "outputs": [
    {
     "data": {
      "text/plain": [
       "True"
      ]
     },
     "execution_count": 36,
     "metadata": {},
     "output_type": "execute_result"
    }
   ],
   "source": [
    "math.isclose(a,b,rel_tol=0.000001,abs_tol=.001)"
   ]
  },
  {
   "cell_type": "code",
   "execution_count": 37,
   "metadata": {},
   "outputs": [],
   "source": [
    "# for very small number use absolute tolerance\n",
    "# for large number use relative tolerance (percentage-wise) # 0.01=1%"
   ]
  },
  {
   "cell_type": "code",
   "execution_count": 38,
   "metadata": {},
   "outputs": [
    {
     "name": "stdout",
     "output_type": "stream",
     "text": [
      "math.floor(-10.3)   :: -11\n",
      "math.ceil(-10.3)    :: -10\n",
      "math.trunc(-10.3)   :: -10\n",
      "math.floor(10.3)   :: 10\n",
      "math.ceil(10.3)    :: 11\n",
      "math.trunc(10.3)   :: 10\n"
     ]
    }
   ],
   "source": [
    "\n",
    "print(f\"math.floor(-10.3)   :: {math.floor(-10.3)}\")\n",
    "print(f\"math.ceil(-10.3)    :: {math.ceil(-10.3)}\")\n",
    "print(f\"math.trunc(-10.3)   :: {math.trunc(-10.3)}\")\n",
    "\n",
    "print(f\"math.floor(10.3)   :: {math.floor(10.3)}\")\n",
    "print(f\"math.ceil(10.3)    :: {math.ceil(10.3)}\")\n",
    "print(f\"math.trunc(10.3)   :: {math.trunc(10.3)}\")"
   ]
  },
  {
   "cell_type": "code",
   "execution_count": 39,
   "metadata": {},
   "outputs": [
    {
     "data": {
      "text/plain": [
       "(199.9, 199.889, 199.88888, 200.0, 200.0, 0.0)"
      ]
     },
     "execution_count": 39,
     "metadata": {},
     "output_type": "execute_result"
    }
   ],
   "source": [
    "round(199.88888,1), round(199.88888,3), round(199.88888,7) , round(199.88888,0) , round(199.88888,-1), round(199.88888,-6)"
   ]
  },
  {
   "cell_type": "code",
   "execution_count": 40,
   "metadata": {},
   "outputs": [
    {
     "data": {
      "text/plain": [
       "10000"
      ]
     },
     "execution_count": 40,
     "metadata": {},
     "output_type": "execute_result"
    }
   ],
   "source": [
    "round(5001,-4)"
   ]
  },
  {
   "cell_type": "code",
   "execution_count": 41,
   "metadata": {},
   "outputs": [
    {
     "data": {
      "text/plain": [
       "(1.0, 1.0)"
      ]
     },
     "execution_count": 41,
     "metadata": {},
     "output_type": "execute_result"
    }
   ],
   "source": [
    "round(1.25,0), round(1.35,0)"
   ]
  },
  {
   "cell_type": "code",
   "execution_count": 42,
   "metadata": {},
   "outputs": [
    {
     "data": {
      "text/plain": [
       "(1.2, 1.4)"
      ]
     },
     "execution_count": 42,
     "metadata": {},
     "output_type": "execute_result"
    }
   ],
   "source": [
    "round(1.25,1), round(1.35,1)  # ???"
   ]
  },
  {
   "cell_type": "markdown",
   "metadata": {},
   "source": [
    "## Banker's Rounding in python"
   ]
  },
  {
   "cell_type": "code",
   "execution_count": 43,
   "metadata": {},
   "outputs": [
    {
     "data": {
      "text/plain": [
       "Context(prec=28, rounding=ROUND_HALF_EVEN, Emin=-999999, Emax=999999, capitals=1, clamp=0, flags=[], traps=[InvalidOperation, DivisionByZero, Overflow])"
      ]
     },
     "execution_count": 43,
     "metadata": {},
     "output_type": "execute_result"
    }
   ],
   "source": [
    "decimal.getcontext()  # ROUND_HALF_EVEN??"
   ]
  },
  {
   "cell_type": "code",
   "execution_count": 44,
   "metadata": {},
   "outputs": [
    {
     "data": {
      "text/plain": [
       "(1.2, 1.4)"
      ]
     },
     "execution_count": 44,
     "metadata": {},
     "output_type": "execute_result"
    }
   ],
   "source": [
    "round(1.25,1), round(1.35,1)"
   ]
  },
  {
   "cell_type": "code",
   "execution_count": 45,
   "metadata": {},
   "outputs": [
    {
     "name": "stdout",
     "output_type": "stream",
     "text": [
      "28\n",
      "ROUND_HALF_EVEN\n"
     ]
    }
   ],
   "source": [
    "with decimal.localcontext() as ctx:\n",
    "    print(ctx.prec)\n",
    "    print(ctx.rounding)"
   ]
  },
  {
   "cell_type": "code",
   "execution_count": 46,
   "metadata": {},
   "outputs": [
    {
     "name": "stdout",
     "output_type": "stream",
     "text": [
      "ROUND_HALF_EVEN\n",
      "round(1.25,1):: 1.2\n",
      "round(1.350000000000000088817841970012523233890533447265625,1):: 1.4\n",
      "ROUND_HALF_UP\n",
      "round(1.25,1):: 1.3\n",
      "round(1.350000000000000088817841970012523233890533447265625,1):: 1.4\n"
     ]
    }
   ],
   "source": [
    "x = decimal.Decimal(1.25)\n",
    "y = decimal.Decimal(1.35)                # not able to format as mentioned aboe:: 'abc.def'\n",
    "print(decimal.getcontext().rounding)\n",
    "print(f\"round({x},1):: {round(x,1)}\")\n",
    "print(f\"round({y},1):: { round(y,1)}\")\n",
    "\n",
    "with decimal.localcontext() as ctx:\n",
    "    ctx.prec = 10\n",
    "    ctx.rounding= 'ROUND_HALF_UP'\n",
    "    # print(ctx.prec)\n",
    "    print(ctx.rounding)\n",
    "    print(f\"round({x},1):: {round(x,1)}\")\n",
    "    print(f\"round({y},1):: { round(y,1)}\")\n",
    "\n"
   ]
  },
  {
   "cell_type": "code",
   "execution_count": 47,
   "metadata": {},
   "outputs": [
    {
     "data": {
      "text/plain": [
       "(24, 104)"
      ]
     },
     "execution_count": 47,
     "metadata": {},
     "output_type": "execute_result"
    }
   ],
   "source": [
    "a = 3.1415\n",
    "b = decimal.Decimal(3.1415)\n",
    "\n",
    "sys.getsizeof(a), sys.getsizeof(b) "
   ]
  },
  {
   "cell_type": "code",
   "execution_count": 48,
   "metadata": {},
   "outputs": [
    {
     "name": "stdout",
     "output_type": "stream",
     "text": [
      "12.5 ns ± 0.422 ns per loop (mean ± std. dev. of 7 runs, 100,000,000 loops each)\n"
     ]
    }
   ],
   "source": [
    "%timeit 10_000_000\n",
    "a = 3.1415"
   ]
  },
  {
   "cell_type": "code",
   "execution_count": 49,
   "metadata": {},
   "outputs": [
    {
     "name": "stdout",
     "output_type": "stream",
     "text": [
      "13.5 ns ± 0.596 ns per loop (mean ± std. dev. of 7 runs, 100,000,000 loops each)\n"
     ]
    }
   ],
   "source": [
    "%timeit 10_000_000\n",
    "a = decimal.Decimal(3.1415)"
   ]
  }
 ],
 "metadata": {
  "kernelspec": {
   "display_name": "venv",
   "language": "python",
   "name": "python3"
  },
  "language_info": {
   "codemirror_mode": {
    "name": "ipython",
    "version": 3
   },
   "file_extension": ".py",
   "mimetype": "text/x-python",
   "name": "python",
   "nbconvert_exporter": "python",
   "pygments_lexer": "ipython3",
   "version": "3.12.3"
  }
 },
 "nbformat": 4,
 "nbformat_minor": 2
}
