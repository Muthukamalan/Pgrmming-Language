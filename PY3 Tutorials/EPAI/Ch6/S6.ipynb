{
 "cells": [
  {
   "cell_type": "code",
   "execution_count": 1,
   "metadata": {},
   "outputs": [],
   "source": [
    "# Global Scope\n",
    "a:int = 10"
   ]
  },
  {
   "cell_type": "code",
   "execution_count": 2,
   "metadata": {},
   "outputs": [],
   "source": [
    "# Local Scope\n",
    "def foo(n:int):\n",
    "    print(f\"global:: a:{a};\")\n",
    "    return a*n"
   ]
  },
  {
   "cell_type": "code",
   "execution_count": 3,
   "metadata": {},
   "outputs": [
    {
     "name": "stdout",
     "output_type": "stream",
     "text": [
      "global:: a:10;\n"
     ]
    },
    {
     "data": {
      "text/plain": [
       "20"
      ]
     },
     "execution_count": 3,
     "metadata": {},
     "output_type": "execute_result"
    }
   ],
   "source": [
    "foo(2)"
   ]
  },
  {
   "cell_type": "code",
   "execution_count": 4,
   "metadata": {},
   "outputs": [
    {
     "name": "stdout",
     "output_type": "stream",
     "text": [
      "global:: a=10\n",
      "local scope: a=2;\n",
      "boo(m:2):: a*m=4\n",
      "a=10;\n"
     ]
    }
   ],
   "source": [
    "a:int = 10\n",
    "def boo(m:int):\n",
    "    a = 2       # assigning a=2 in bound to function (local scope)\n",
    "    print(f\"local scope: a={a};\")\n",
    "    return a*m\n",
    "\n",
    "print(f\"global:: a={10}\")\n",
    "print(f\"boo(m:2):: a*m={boo(2)}\")\n",
    "print(f\"a={a};\")"
   ]
  },
  {
   "cell_type": "code",
   "execution_count": 5,
   "metadata": {},
   "outputs": [
    {
     "name": "stdout",
     "output_type": "stream",
     "text": [
      "global:: a=10\n",
      "local scope: a=2;\n",
      "boo(m:2):: a*m=4\n",
      "a=2;\n"
     ]
    }
   ],
   "source": [
    "a:int = 10\n",
    "def boo(m:int):\n",
    "    global a                        # CALLING GLOABL 'a'\n",
    "    a = 2                           # assigning a=2 in bound to function (local scope)\n",
    "    print(f\"local scope: a={a};\")\n",
    "    return a*m\n",
    "\n",
    "print(f\"global:: a={10}\")\n",
    "print(f\"boo(m:2):: a*m={boo(2)}\")\n",
    "print(f\"a={a};\")                   # Impact Reflects OUTSIDE 😋"
   ]
  },
  {
   "cell_type": "code",
   "execution_count": 6,
   "metadata": {},
   "outputs": [
    {
     "name": "stdout",
     "output_type": "stream",
     "text": [
      "gloabal a::10\n",
      "<class 'UnboundLocalError'>\n",
      "a::10\n"
     ]
    }
   ],
   "source": [
    "a:int = 10\n",
    "def voo(m:int)->int:\n",
    "    print(a)\n",
    "    a = 2 \n",
    "    return a**2\n",
    "\n",
    "print(f\"gloabal a::{a}\")\n",
    "try:\n",
    "    print(f\"voo(m:int):: a*m={voo(2)}\")\n",
    "except Exception as e:\n",
    "    # You called variable before it's define \n",
    "    print(e.__class__)\n",
    "print(f\"a::{a}\")"
   ]
  },
  {
   "cell_type": "code",
   "execution_count": 7,
   "metadata": {},
   "outputs": [
    {
     "name": "stdout",
     "output_type": "stream",
     "text": [
      "<class 'NameError'>\n",
      "Hello planet 🌍!\n",
      "muthukamalan\n"
     ]
    }
   ],
   "source": [
    "def hello_word(s:str):\n",
    "    global name\n",
    "    name = \"muthukamalan\"\n",
    "    return f\"Hello {s}\"\n",
    "\n",
    "try:\n",
    "    # you were accessing before it calling\n",
    "    print(name)\n",
    "except Exception as e:\n",
    "    print(e.__class__)\n",
    "print(hello_word(\"planet 🌍!\"))   # calling my function\n",
    "print(name)   # << You were executed function with global name "
   ]
  },
  {
   "cell_type": "markdown",
   "metadata": {},
   "source": [
    "## NonLocal Scope"
   ]
  },
  {
   "cell_type": "code",
   "execution_count": 8,
   "metadata": {},
   "outputs": [
    {
     "name": "stdout",
     "output_type": "stream",
     "text": [
      "NONLOCAL_SCOPE x::hello\n",
      "GLOBAL a::10\n"
     ]
    }
   ],
   "source": [
    "def kFunc(k:int):\n",
    "    # k:int is Local Scope to kFunc\n",
    "    # x is Local Scope to kFunc\n",
    "    # x is *NON_LOCAL SCOPE* to lFunc\n",
    "    x = \"hello\"\n",
    "\n",
    "\n",
    "    def lFunc(l:int):\n",
    "        # x is *NON_LOCAL SCOPE* to lFunc REFER from kFunc\n",
    "        print(f\"NONLOCAL_SCOPE x::{x}\")\n",
    "        print(f\"GLOBAL a::{a}\")\n",
    "        # l:int is LOCAL SCOPE to lFunc\n",
    "        l = 6\n",
    "    \n",
    "    return lFunc\n",
    "\n",
    "a:int =10 \n",
    "# a is Global Scope\n",
    "# a is Global scope to KFunc\n",
    "# a is Global scope to lFunc\n",
    "\n",
    "kFunc(1)(100)"
   ]
  },
  {
   "cell_type": "code",
   "execution_count": 9,
   "metadata": {},
   "outputs": [
    {
     "name": "stdout",
     "output_type": "stream",
     "text": [
      "inner1 (before): hello\n",
      "inner2 (before): planet 🌍\n",
      "inner2 (after): sun & clouds ☀️😶‍🌫️\n",
      "inner1 (after): hello\n",
      "outer:: hello\n"
     ]
    }
   ],
   "source": [
    "def outer():\n",
    "    x = \"hello\"\n",
    "    def inner1():\n",
    "        # nonlocal x\n",
    "        x = \"planet 🌍\"\n",
    "        def inner2():\n",
    "            nonlocal x \n",
    "            x = \"sun & clouds ☀️😶‍🌫️\"\n",
    "    \n",
    "        print(f\"inner2 (before): {x}\")\n",
    "        inner2()\n",
    "        print(f\"inner2 (after): {x}\")\n",
    "    print(f\"inner1 (before): {x}\")\n",
    "    inner1()\n",
    "    print(f\"inner1 (after): {x}\")\n",
    "\n",
    "    print(f\"outer:: {x}\")\n",
    "\n",
    "outer()"
   ]
  },
  {
   "cell_type": "code",
   "execution_count": 10,
   "metadata": {},
   "outputs": [
    {
     "name": "stdout",
     "output_type": "stream",
     "text": [
      "inner1 (before): hello\n",
      "inner2 (before): planet 🌍\n",
      "inner2 (after): sun & clouds ☀️😶‍🌫️\n",
      "inner1 (after): sun & clouds ☀️😶‍🌫️\n",
      "outer:: sun & clouds ☀️😶‍🌫️\n"
     ]
    }
   ],
   "source": [
    "def outer():\n",
    "    x = \"hello\"\n",
    "    def inner1():\n",
    "        nonlocal x\n",
    "        x = \"planet 🌍\"\n",
    "        def inner2():\n",
    "            nonlocal x \n",
    "            x = \"sun & clouds ☀️😶‍🌫️\"\n",
    "    \n",
    "        print(f\"inner2 (before): {x}\")\n",
    "        inner2()\n",
    "        print(f\"inner2 (after): {x}\")\n",
    "    print(f\"inner1 (before): {x}\")\n",
    "    inner1()\n",
    "    print(f\"inner1 (after): {x}\")\n",
    "\n",
    "    print(f\"outer:: {x}\")\n",
    "\n",
    "outer()"
   ]
  },
  {
   "cell_type": "code",
   "execution_count": 11,
   "metadata": {},
   "outputs": [
    {
     "name": "stdout",
     "output_type": "stream",
     "text": [
      "inner1 (before): rocket 🚀\n",
      "inner2 (after): planet 🌍\n",
      "outer: planet 🌍\n"
     ]
    }
   ],
   "source": [
    "x:int = 100\n",
    "def outer():\n",
    "    x = \"python\"               # masks global x\n",
    "    def inner1():\n",
    "        nonlocal x              # refers to x in outer\n",
    "        x = \"planet 🌍\"         # changed x in outer scope\n",
    "        def inner2():\n",
    "            global x             # refers to x in global scopex\n",
    "            x = \"rocket 🚀\"\n",
    "            print(f\"inner1 (before): {x}\")\n",
    "        inner2()\n",
    "        print(f\"inner2 (after): {x}\")\n",
    "    inner1()\n",
    "    print(f\"outer: {x}\")\n",
    "\n",
    "outer()\n"
   ]
  },
  {
   "cell_type": "code",
   "execution_count": 12,
   "metadata": {},
   "outputs": [
    {
     "ename": "SyntaxError",
     "evalue": "no binding for nonlocal 'x' found (2225504824.py, line 7)",
     "output_type": "error",
     "traceback": [
      "\u001b[1;36m  Cell \u001b[1;32mIn[12], line 7\u001b[1;36m\u001b[0m\n\u001b[1;33m    nonlocal x       # Compilation ERROR\u001b[0m\n\u001b[1;37m    ^\u001b[0m\n\u001b[1;31mSyntaxError\u001b[0m\u001b[1;31m:\u001b[0m no binding for nonlocal 'x' found\n"
     ]
    }
   ],
   "source": [
    "try:\n",
    "    x = 100 \n",
    "    def outer():\n",
    "        global x \n",
    "        x = \"planet 🌍\"\n",
    "        def inner():\n",
    "            nonlocal x       # Compilation ERROR\n",
    "            x = 'space 🚀'\n",
    "        inner()\n",
    "except Exception as e:\n",
    "    # No RUNTIME error\n",
    "    # we didn't call the function yet\n",
    "    print(e.__class__)"
   ]
  },
  {
   "cell_type": "markdown",
   "metadata": {},
   "source": [
    "# CLOSURE"
   ]
  },
  {
   "cell_type": "code",
   "execution_count": 13,
   "metadata": {},
   "outputs": [
    {
     "name": "stdout",
     "output_type": "stream",
     "text": [
      "outer:: 0x226174485c0\n",
      "['hello world', 'planet apes 🐒']\n",
      "inner:: 0x226174485c0\n",
      "('x',)\n",
      "(<cell at 0x00000226173F30D0: list object at 0x00000226174485C0>,)\n"
     ]
    }
   ],
   "source": [
    "def outer():\n",
    "    x = ['hello world','planet apes 🐒']\n",
    "    print(f'outer:: {hex(id(x))}')\n",
    "    def inner():\n",
    "        print(x)\n",
    "        print(f'inner:: {hex(id(x))}')\n",
    "    return inner\n",
    "\n",
    "fn = outer()\n",
    "# (function) def outer() -> (() -> None)\n",
    "fn()\n",
    "\n",
    "print(fn.__code__.co_freevars)       # CO_VARS Shared 🤯🤯🤯 \n",
    "print(fn.__closure__)                # function returns function + free_vars"
   ]
  },
  {
   "cell_type": "code",
   "execution_count": 14,
   "metadata": {},
   "outputs": [],
   "source": [
    "def counter():\n",
    "    count = 0 \n",
    "    def inc1():\n",
    "        nonlocal count\n",
    "        count +=1 \n",
    "        return count \n",
    "    def inc2():\n",
    "        nonlocal count \n",
    "        count +=1 \n",
    "        return count\n",
    "    return inc1,inc2\n",
    "\n",
    "fn1,fn2 = counter()"
   ]
  },
  {
   "cell_type": "code",
   "execution_count": 15,
   "metadata": {},
   "outputs": [
    {
     "name": "stdout",
     "output_type": "stream",
     "text": [
      "2362622060768 2362622060608\n",
      "2362622069552 0x226173fa840\n",
      "(<cell at 0x00000226173F3B80: int object at 0x00007FFFC9E3A998>,) (<cell at 0x00000226173F3B80: int object at 0x00007FFFC9E3A998>,)\n"
     ]
    }
   ],
   "source": [
    "print(id(fn1),id(fn2))\n",
    "print(id(id(fn1)),hex(id(fn2)))\n",
    "print(fn1.__closure__,fn2.__closure__)  # returns memory address of free var it's using"
   ]
  },
  {
   "cell_type": "code",
   "execution_count": 16,
   "metadata": {},
   "outputs": [
    {
     "name": "stdout",
     "output_type": "stream",
     "text": [
      "8192 1594323\n",
      "2362622061408 2362622061568\n",
      "(<cell at 0x00000226173B2F80: int object at 0x00007FFFC9E3A9D8>,) (<cell at 0x00000226174154E0: int object at 0x00007FFFC9E3A9F8>,)\n"
     ]
    }
   ],
   "source": [
    "def pow(n:int):\n",
    "    # n in local to pow  \n",
    "    def inner(x):\n",
    "        # x is local to inner \n",
    "        return n**x \n",
    "    return inner\n",
    "\n",
    "square = pow(2)\n",
    "cube   = pow(3)\n",
    "\n",
    "print(square(13),cube(13))\n",
    "\n",
    "# TWo Function are different\n",
    "print(id(square),id(cube))\n",
    "# Two closure are different\n",
    "print(square.__closure__, cube.__closure__)"
   ]
  },
  {
   "cell_type": "code",
   "execution_count": 17,
   "metadata": {},
   "outputs": [],
   "source": [
    "# catch 22 \n",
    "\n",
    "def adder(n):\n",
    "    def inner(x):\n",
    "        # x is local \n",
    "        # n is non-local\n",
    "        return x+n\n",
    "    return inner"
   ]
  },
  {
   "cell_type": "code",
   "execution_count": 18,
   "metadata": {},
   "outputs": [
    {
     "name": "stdout",
     "output_type": "stream",
     "text": [
      "2362622056128 2362622060928\n",
      "(<cell at 0x0000022617415AB0: int object at 0x00007FFFC9E3A9D8>,) (<cell at 0x00000226174146A0: int object at 0x00007FFFC9E3A9F8>,)\n"
     ]
    },
    {
     "data": {
      "text/plain": [
       "(('n',), ('n',))"
      ]
     },
     "execution_count": 18,
     "metadata": {},
     "output_type": "execute_result"
    }
   ],
   "source": [
    "add2 = adder(2)\n",
    "add3 = adder(3)\n",
    "\n",
    "print(id(add2), id(add3))\n",
    "print(add2.__closure__, add3.__closure__)\n",
    "add2.__code__.co_freevars, add3.__code__.co_freevars,"
   ]
  },
  {
   "cell_type": "code",
   "execution_count": 19,
   "metadata": {},
   "outputs": [
    {
     "data": {
      "text/plain": [
       "(14, 14, 14, 14)"
      ]
     },
     "execution_count": 19,
     "metadata": {},
     "output_type": "execute_result"
    }
   ],
   "source": [
    "adders  = []\n",
    "for  i in range(5): adders.append( lambda x: x+i)   #  i is nonlocal in in for loop\n",
    "adders[0](10),adders[1](10),adders[2](10),adders[3](10)"
   ]
  },
  {
   "cell_type": "code",
   "execution_count": 20,
   "metadata": {},
   "outputs": [
    {
     "data": {
      "text/plain": [
       "(10, 11, 12, 13)"
      ]
     },
     "execution_count": 20,
     "metadata": {},
     "output_type": "execute_result"
    }
   ],
   "source": [
    "adders  = []\n",
    "# i is non-local in for loop\n",
    "# step=i; step is local variable\n",
    "for  i in range(5): adders.append( lambda x,step=i: x+step)\n",
    "adders[0](10),adders[1](10),adders[2](10),adders[3](10)"
   ]
  },
  {
   "cell_type": "markdown",
   "metadata": {},
   "source": [
    "# Applications"
   ]
  },
  {
   "cell_type": "code",
   "execution_count": 21,
   "metadata": {},
   "outputs": [
    {
     "name": "stdout",
     "output_type": "stream",
     "text": [
      "10.0\n",
      "15.0\n",
      "20.0\n"
     ]
    }
   ],
   "source": [
    "class Averager:\n",
    "    def __init__(self) -> None:\n",
    "        self.nums = []\n",
    "    def add(self,no)->float:\n",
    "        self.nums.append(no)\n",
    "        return sum(self.nums) / len(self.nums)\n",
    "    \n",
    "\n",
    "a =Averager()\n",
    "print(a.add(10))\n",
    "print(a.add(20))\n",
    "print(a.add(30))"
   ]
  },
  {
   "cell_type": "code",
   "execution_count": 22,
   "metadata": {},
   "outputs": [
    {
     "name": "stdout",
     "output_type": "stream",
     "text": [
      "10.0\n",
      "15.0\n",
      "20.0\n"
     ]
    }
   ],
   "source": [
    "def averager():\n",
    "    nums= []\n",
    "    def add(no):\n",
    "        nums.append(no)\n",
    "        return sum(nums)/len(nums)\n",
    "    return add\n",
    "\n",
    "a = averager()\n",
    "print(a(10))\n",
    "print(a(20))\n",
    "print(a(30))"
   ]
  },
  {
   "cell_type": "code",
   "execution_count": 23,
   "metadata": {},
   "outputs": [
    {
     "data": {
      "text/plain": [
       "20.0"
      ]
     },
     "execution_count": 23,
     "metadata": {},
     "output_type": "execute_result"
    }
   ],
   "source": [
    "class Averager:\n",
    "    def __init__(self) -> None:\n",
    "        self._count:int = 0 \n",
    "        self._total:int = 0 \n",
    "\n",
    "    def add(self,no):\n",
    "        self._total += no\n",
    "        self._count += 1\n",
    "        return self._total / self._count\n",
    "    \n",
    "a = Averager()\n",
    "a.add(10)\n",
    "a.add(20)\n",
    "a.add(30)"
   ]
  },
  {
   "cell_type": "code",
   "execution_count": 24,
   "metadata": {},
   "outputs": [],
   "source": [
    "def averager():\n",
    "    total = 0 \n",
    "    count = 0\n",
    "\n",
    "    def add(no):\n",
    "        nonlocal total,count\n",
    "        total += no \n",
    "        count += 1\n",
    "        return 0 if count==0 else total/count\n",
    "    return add"
   ]
  },
  {
   "cell_type": "code",
   "execution_count": 25,
   "metadata": {},
   "outputs": [
    {
     "data": {
      "text/plain": [
       "20.0"
      ]
     },
     "execution_count": 25,
     "metadata": {},
     "output_type": "execute_result"
    }
   ],
   "source": [
    "a = averager()\n",
    "a(10)\n",
    "a(20)\n",
    "a(30)"
   ]
  },
  {
   "cell_type": "code",
   "execution_count": 26,
   "metadata": {},
   "outputs": [
    {
     "name": "stdout",
     "output_type": "stream",
     "text": [
      "4.369999805931002e-05\n",
      "3.819999983534217e-05\n"
     ]
    }
   ],
   "source": [
    "from time import perf_counter\n",
    "from typing import Any\n",
    "class Timer:\n",
    "    def __init__(self) -> None:\n",
    "        self._start = perf_counter()\n",
    "    def __call__(self, *args: Any, **kwds: Any) -> Any:\n",
    "        return (perf_counter()-self._start)\n",
    "    \n",
    "a = Timer()\n",
    "print(a())\n",
    "\n",
    "b = Timer()\n",
    "print(b())\n"
   ]
  },
  {
   "cell_type": "code",
   "execution_count": 27,
   "metadata": {},
   "outputs": [
    {
     "name": "stdout",
     "output_type": "stream",
     "text": [
      "3.279998782090843e-05\n",
      "0.0003512999974191189\n",
      "0.0004118999931961298\n"
     ]
    }
   ],
   "source": [
    "def timer():\n",
    "    start = perf_counter()\n",
    "    def elapsed():\n",
    "        # we don't even need to make start nonlocal\n",
    "        # since we are only reading it.\n",
    "        # nonlocal start\n",
    "        return perf_counter()-start\n",
    "    return elapsed\n",
    "\n",
    "x = timer()\n",
    "print(x())\n",
    "print(x())\n",
    "print(x())\n"
   ]
  },
  {
   "cell_type": "code",
   "execution_count": 28,
   "metadata": {},
   "outputs": [
    {
     "name": "stdout",
     "output_type": "stream",
     "text": [
      "140.432\n",
      "139.802\n",
      "149.802\n"
     ]
    }
   ],
   "source": [
    "def counter(inital_value:int):\n",
    "    # inital value is a local variable here\n",
    "    def inc(increament=1):\n",
    "        nonlocal inital_value\n",
    "        # inital_value is nonlocal variable here\n",
    "        inital_value += increament\n",
    "        return inital_value\n",
    "    return inc \n",
    "\n",
    "\n",
    "x = counter(130)\n",
    "print(x(10.432))\n",
    "print(x(-.63))\n",
    "print(x(10))"
   ]
  },
  {
   "cell_type": "code",
   "execution_count": 29,
   "metadata": {},
   "outputs": [],
   "source": [
    "from typing import Callable\n",
    "def counter(fn:Callable):\n",
    "    cnt:int =0 \n",
    "    def inner(*args,**kwargs):\n",
    "        nonlocal cnt \n",
    "        cnt += 1\n",
    "        print(f'{fn.__name__} has been called {cnt} times')\n",
    "        return fn(*args,**kwargs)\n",
    "    return inner\n",
    "\n",
    "\n",
    "\n",
    "# add_fn = lambda a,b: a+b\n",
    "def add_fn(a,b):\n",
    "    '''return the sum of the add 2 numbers'''\n",
    "    return a+b\n",
    "def mult_fn(a,b): return a*b\n",
    "\n",
    "counter_add = counter(add_fn)\n",
    "counter_mult= counter(mult_fn)"
   ]
  },
  {
   "cell_type": "code",
   "execution_count": 30,
   "metadata": {},
   "outputs": [
    {
     "name": "stdout",
     "output_type": "stream",
     "text": [
      "add_fn has been called 1 times\n",
      "26\n",
      "mult_fn has been called 1 times\n",
      "1092\n"
     ]
    }
   ],
   "source": [
    "print(counter_add(3,23))\n",
    "print(counter_mult(156,7))"
   ]
  },
  {
   "cell_type": "code",
   "execution_count": 31,
   "metadata": {},
   "outputs": [
    {
     "name": "stdout",
     "output_type": "stream",
     "text": [
      "Help on function add_fn in module __main__:\n",
      "\n",
      "add_fn(a, b)\n",
      "    return the sum of the add 2 numbers\n",
      "\n",
      "None 2362622060288 0x226173fa700\n",
      "**************************************************\n",
      "Help on function inner in module __main__:\n",
      "\n",
      "inner(*args, **kwargs)\n",
      "\n",
      "None 2362622061248 0x226173faac0\n"
     ]
    }
   ],
   "source": [
    "print(help(add_fn), id(add_fn), hex(id(add_fn)))\n",
    "print(\"*\"*50)\n",
    "print(help(counter_add), id(counter_add), hex(id(counter_add)))  # not replaying properly"
   ]
  },
  {
   "cell_type": "markdown",
   "metadata": {},
   "source": [
    "# Decorators\n",
    "\n",
    "#### Function  that returns the same function\n",
    "\n",
    "fn = closure(fn)"
   ]
  },
  {
   "cell_type": "code",
   "execution_count": 32,
   "metadata": {},
   "outputs": [
    {
     "name": "stdout",
     "output_type": "stream",
     "text": [
      "<function add at 0x00000226173FB7E0>\n"
     ]
    }
   ],
   "source": [
    "def counter(fn:Callable):\n",
    "    count = 0\n",
    "    def inner(*args,**kwargs):\n",
    "        nonlocal count\n",
    "        count += 1 \n",
    "        print(f\"Function {fn.__name__} called {count} times\")\n",
    "        return fn(*args,*kwargs)\n",
    "    return inner \n",
    "\n",
    "def add(a,b=0):\n",
    "    '''return the sum of a and b'''\n",
    "    return a+b\n",
    "\n",
    "\n",
    "print(add)\n",
    "add = counter(add)  # Our fn decorated with some other function is called decorated function / Deecorator"
   ]
  },
  {
   "cell_type": "code",
   "execution_count": 33,
   "metadata": {},
   "outputs": [],
   "source": [
    "@counter\n",
    "def mult(a,b,c):\n",
    "    return a*b\n",
    "\n",
    "# mult = counter(mult)"
   ]
  },
  {
   "cell_type": "code",
   "execution_count": 34,
   "metadata": {},
   "outputs": [
    {
     "name": "stdout",
     "output_type": "stream",
     "text": [
      "Function mult called 1 times\n"
     ]
    },
    {
     "data": {
      "text/plain": [
       "2"
      ]
     },
     "execution_count": 34,
     "metadata": {},
     "output_type": "execute_result"
    }
   ],
   "source": [
    "mult(1,2,3)"
   ]
  },
  {
   "cell_type": "code",
   "execution_count": 35,
   "metadata": {},
   "outputs": [
    {
     "data": {
      "text/plain": [
       "'inner'"
      ]
     },
     "execution_count": 35,
     "metadata": {},
     "output_type": "execute_result"
    }
   ],
   "source": [
    "mult.__name__ # ??"
   ]
  },
  {
   "cell_type": "code",
   "execution_count": 36,
   "metadata": {},
   "outputs": [],
   "source": [
    "import inspect"
   ]
  },
  {
   "cell_type": "code",
   "execution_count": 37,
   "metadata": {},
   "outputs": [
    {
     "name": "stdout",
     "output_type": "stream",
     "text": [
      "    def inner(*args,**kwargs):\n",
      "        nonlocal count\n",
      "        count += 1 \n",
      "        print(f\"Function {fn.__name__} called {count} times\")\n",
      "        return fn(*args,*kwargs)\n",
      "\n"
     ]
    }
   ],
   "source": [
    "print(inspect.getsource(mult))"
   ]
  },
  {
   "cell_type": "code",
   "execution_count": 38,
   "metadata": {},
   "outputs": [
    {
     "name": "stdout",
     "output_type": "stream",
     "text": [
      "<function add at 0x00000226173FB9C0>\n"
     ]
    }
   ],
   "source": [
    "def counter(fn:Callable):\n",
    "    count = 0\n",
    "    def inner(*args,**kwargs):\n",
    "        nonlocal count\n",
    "        count += 1 \n",
    "        print(f\"Function {fn.__name__} called {count} times\")\n",
    "        return fn(*args,*kwargs)\n",
    "    inner.__doc__ = fn.__doc__\n",
    "    inner.__annotations__ = fn.__annotations__\n",
    "    inner.__name__ = fn.__name__\n",
    "    return inner \n",
    "\n",
    "def add(a:int,b:int=0)->int:\n",
    "    '''return the sum of a and b'''\n",
    "    return a+b\n",
    "\n",
    "\n",
    "print(add)\n",
    "add = counter(add)  # Our fn decorated with some other function is called decorated function / Deecorator"
   ]
  },
  {
   "cell_type": "code",
   "execution_count": 39,
   "metadata": {},
   "outputs": [
    {
     "name": "stdout",
     "output_type": "stream",
     "text": [
      "Help on function add in module __main__:\n",
      "\n",
      "add(*args, **kwargs) -> int\n",
      "    return the sum of a and b\n",
      "\n"
     ]
    }
   ],
   "source": [
    "help(add)"
   ]
  },
  {
   "cell_type": "code",
   "execution_count": 40,
   "metadata": {},
   "outputs": [],
   "source": [
    "from functools import wraps"
   ]
  },
  {
   "cell_type": "code",
   "execution_count": 41,
   "metadata": {},
   "outputs": [
    {
     "name": "stdout",
     "output_type": "stream",
     "text": [
      "<function add at 0x00000226173F9B20>\n"
     ]
    }
   ],
   "source": [
    "def counter(fn:Callable):\n",
    "    count = 0\n",
    "    @wraps(fn)\n",
    "    def inner(*args,**kwargs):\n",
    "        nonlocal count\n",
    "        count += 1 \n",
    "        print(f\"Function {fn.__name__} called {count} times\")\n",
    "        return fn(*args,*kwargs)\n",
    "    return inner \n",
    "\n",
    "def add(a:int,b:int=0)->int:\n",
    "    '''return the sum of a and b'''\n",
    "    return a+b\n",
    "\n",
    "\n",
    "print(add)\n",
    "add = counter(add)  # Our fn decorated with some other function is called decorated function / Deecorator"
   ]
  },
  {
   "cell_type": "code",
   "execution_count": 42,
   "metadata": {},
   "outputs": [
    {
     "name": "stdout",
     "output_type": "stream",
     "text": [
      "Help on function add in module __main__:\n",
      "\n",
      "add(a: int, b: int = 0) -> int\n",
      "    return the sum of a and b\n",
      "\n"
     ]
    }
   ],
   "source": [
    "help(add)"
   ]
  },
  {
   "cell_type": "markdown",
   "metadata": {},
   "source": [
    "###### TODO: Implementation\n",
    "# order of Decorator"
   ]
  },
  {
   "cell_type": "markdown",
   "metadata": {},
   "source": [
    "###### TODO: Implementation\n",
    "# Decorator Factory"
   ]
  }
 ],
 "metadata": {
  "kernelspec": {
   "display_name": "ojenv",
   "language": "python",
   "name": "python3"
  },
  "language_info": {
   "codemirror_mode": {
    "name": "ipython",
    "version": 3
   },
   "file_extension": ".py",
   "mimetype": "text/x-python",
   "name": "python",
   "nbconvert_exporter": "python",
   "pygments_lexer": "ipython3",
   "version": "3.12.3"
  }
 },
 "nbformat": 4,
 "nbformat_minor": 2
}
