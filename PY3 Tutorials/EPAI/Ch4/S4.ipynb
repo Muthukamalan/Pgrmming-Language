{
 "cells": [
  {
   "cell_type": "markdown",
   "metadata": {},
   "source": [
    "<h1 align='center'>Numerical Types II</h1>\n",
    "\n",
    "- [X] Complex Number\n",
    "- [X] Boolean"
   ]
  },
  {
   "cell_type": "code",
   "execution_count": 1,
   "metadata": {},
   "outputs": [
    {
     "name": "stdout",
     "output_type": "stream",
     "text": [
      "True\n",
      "2799000076880 2799000077264\n",
      "<class 'complex'>\n",
      "(1-2j)\n",
      "2.0 <class 'float'>\n"
     ]
    }
   ],
   "source": [
    "a = complex(1,2)\n",
    "b = 1 + 2j\n",
    "\n",
    "print(a==b)\n",
    "print(id(a),id(b))\n",
    "print(type(a))\n",
    "print(a.conjugate())\n",
    "print(a.imag,type(a.imag))"
   ]
  },
  {
   "cell_type": "code",
   "execution_count": 2,
   "metadata": {},
   "outputs": [
    {
     "name": "stdout",
     "output_type": "stream",
     "text": [
      "add:: (1+2j)+(3-4j)=(4-2j)\n",
      "sub:: (3-4j)-5j=(3-9j)\n",
      "div:: 5j+10=0.5j\n",
      "<class 'TypeError'> of (1+2j)//(3-4j)\n",
      "<class 'TypeError'> of (1+2j)%(3-4j)\n",
      "<class 'TypeError'> of (1+2j)<(3-4j)\n"
     ]
    }
   ],
   "source": [
    "a = 1+2j\n",
    "b = 3-4j\n",
    "c = 5j\n",
    "d = 10   # complex number not having imag\n",
    "\n",
    "print(f\"add:: {a}+{b}={a+b}\")\n",
    "print(f\"sub:: {b}-{c}={b-c}\")\n",
    "print(f\"div:: {c}+{d}={c/d}\")\n",
    "try:\n",
    "    print(f\"floor-div:: {a}//{b}={a//b}\")\n",
    "except TypeError as te:\n",
    "    print(f'{te.__class__} of {a}//{b}')\n",
    "try:\n",
    "    print(f\"mod:: {a}%{b}={a%b}\")\n",
    "except TypeError as te:\n",
    "    print(f'{te.__class__} of {a}%{b}')\n",
    "try:\n",
    "    print(f\"mod:: {a}<{b}={a < b}\")\n",
    "except TypeError as te:\n",
    "    print(f'{te.__class__} of {a}<{b}')\n",
    "\n",
    "    "
   ]
  },
  {
   "cell_type": "code",
   "execution_count": 3,
   "metadata": {},
   "outputs": [
    {
     "data": {
      "text/plain": [
       "False"
      ]
     },
     "execution_count": 3,
     "metadata": {},
     "output_type": "execute_result"
    }
   ],
   "source": [
    "a = 0.1j\n",
    "a+a+a == 0.3j  # same problem with float"
   ]
  },
  {
   "cell_type": "code",
   "execution_count": 4,
   "metadata": {},
   "outputs": [
    {
     "name": "stdout",
     "output_type": "stream",
     "text": [
      "(1+5j)\n",
      "sqrt:: (1.7462845577958914+1.4316108957382214j)\n",
      "magnitude:: 5.0990195135927845\n",
      "phase:: 1.373400766945016\n"
     ]
    }
   ],
   "source": [
    "import cmath \n",
    "\n",
    "a = 1+5j \n",
    "r1 = abs(a)\n",
    "p1 = cmath.phase(a)\n",
    "\n",
    "print(a)\n",
    "print(f\"sqrt:: {cmath.sqrt(a)}\")\n",
    "print(f\"magnitude:: {abs(a)}\")\n",
    "print(f\"phase:: {p1}\")\n"
   ]
  },
  {
   "cell_type": "code",
   "execution_count": 5,
   "metadata": {},
   "outputs": [
    {
     "data": {
      "text/plain": [
       "True"
      ]
     },
     "execution_count": 5,
     "metadata": {},
     "output_type": "execute_result"
    }
   ],
   "source": [
    "isinstance(True,int)  # HOW?"
   ]
  },
  {
   "cell_type": "markdown",
   "metadata": {},
   "source": [
    "bool(x)==True for any x expet zero or returns False\n",
    "\n",
    "The way the Boolean operators `and`, `or` actually work in a python is different way\n",
    "\n",
    "`X or Y`: if X is falsy, returns Y, otherwise evaluates and returns X"
   ]
  },
  {
   "cell_type": "code",
   "execution_count": 6,
   "metadata": {},
   "outputs": [
    {
     "name": "stdout",
     "output_type": "stream",
     "text": [
      "True > False :: True\n",
      "(True+True+True) %2 :: 1\n",
      "-True:: -1\n",
      "[1, 2]\n",
      "False\n"
     ]
    }
   ],
   "source": [
    "print(f\"True > False :: {True > False}\")\n",
    "print(f\"(True+True+True) %2 :: {(True+True+True) %2}\")\n",
    "print(f\"-True:: {-True}\")\n",
    "\n",
    "\n",
    "\n",
    "print(([1,2] or [1,2,3]))  # short-circuiting\n",
    "print(not [[]])"
   ]
  },
  {
   "cell_type": "markdown",
   "metadata": {},
   "source": [
    "# String"
   ]
  },
  {
   "cell_type": "code",
   "execution_count": 7,
   "metadata": {},
   "outputs": [
    {
     "name": "stdout",
     "output_type": "stream",
     "text": [
      "Help on module string:\n",
      "\n",
      "NAME\n",
      "    string - A collection of string constants.\n",
      "\n",
      "MODULE REFERENCE\n",
      "    https://docs.python.org/3.12/library/string.html\n",
      "\n",
      "    The following documentation is automatically generated from the Python\n",
      "    source files.  It may be incomplete, incorrect or include features that\n",
      "    are considered implementation detail and may vary between Python\n",
      "    implementations.  When in doubt, consult the module reference at the\n",
      "    location listed above.\n",
      "\n",
      "DESCRIPTION\n",
      "    Public module variables:\n",
      "\n",
      "    whitespace -- a string containing all ASCII whitespace\n",
      "    ascii_lowercase -- a string containing all ASCII lowercase letters\n",
      "    ascii_uppercase -- a string containing all ASCII uppercase letters\n",
      "    ascii_letters -- a string containing all ASCII letters\n",
      "    digits -- a string containing all ASCII decimal digits\n",
      "    hexdigits -- a string containing all ASCII hexadecimal digits\n",
      "    octdigits -- a string containing all ASCII octal digits\n",
      "    punctuation -- a string containing all ASCII punctuation characters\n",
      "    printable -- a string containing all ASCII characters considered printable\n",
      "\n",
      "CLASSES\n",
      "    builtins.object\n",
      "        Formatter\n",
      "        Template\n",
      "\n",
      "    class Formatter(builtins.object)\n",
      "     |  Methods defined here:\n",
      "     |\n",
      "     |  check_unused_args(self, used_args, args, kwargs)\n",
      "     |\n",
      "     |  convert_field(self, value, conversion)\n",
      "     |\n",
      "     |  format(self, format_string, /, *args, **kwargs)\n",
      "     |\n",
      "     |  format_field(self, value, format_spec)\n",
      "     |\n",
      "     |  get_field(self, field_name, args, kwargs)\n",
      "     |      # given a field_name, find the object it references.\n",
      "     |      #  field_name:   the field being looked up, e.g. \"0.name\"\n",
      "     |      #                 or \"lookup[3]\"\n",
      "     |      #  used_args:    a set of which args have been used\n",
      "     |      #  args, kwargs: as passed in to vformat\n",
      "     |\n",
      "     |  get_value(self, key, args, kwargs)\n",
      "     |\n",
      "     |  parse(self, format_string)\n",
      "     |      # returns an iterable that contains tuples of the form:\n",
      "     |      # (literal_text, field_name, format_spec, conversion)\n",
      "     |      # literal_text can be zero length\n",
      "     |      # field_name can be None, in which case there's no\n",
      "     |      #  object to format and output\n",
      "     |      # if field_name is not None, it is looked up, formatted\n",
      "     |      #  with format_spec and conversion and then used\n",
      "     |\n",
      "     |  vformat(self, format_string, args, kwargs)\n",
      "     |\n",
      "     |  ----------------------------------------------------------------------\n",
      "     |  Data descriptors defined here:\n",
      "     |\n",
      "     |  __dict__\n",
      "     |      dictionary for instance variables\n",
      "     |\n",
      "     |  __weakref__\n",
      "     |      list of weak references to the object\n",
      "\n",
      "    class Template(builtins.object)\n",
      "     |  Template(template)\n",
      "     |\n",
      "     |  A string class for supporting $-substitutions.\n",
      "     |\n",
      "     |  Methods defined here:\n",
      "     |\n",
      "     |  __init__(self, template)\n",
      "     |      Initialize self.  See help(type(self)) for accurate signature.\n",
      "     |\n",
      "     |  get_identifiers(self)\n",
      "     |\n",
      "     |  is_valid(self)\n",
      "     |\n",
      "     |  safe_substitute(self, mapping={}, /, **kws)\n",
      "     |\n",
      "     |  substitute(self, mapping={}, /, **kws)\n",
      "     |\n",
      "     |  ----------------------------------------------------------------------\n",
      "     |  Class methods defined here:\n",
      "     |\n",
      "     |  __init_subclass__()\n",
      "     |      This method is called when a class is subclassed.\n",
      "     |\n",
      "     |      The default implementation does nothing. It may be\n",
      "     |      overridden to extend subclasses.\n",
      "     |\n",
      "     |  ----------------------------------------------------------------------\n",
      "     |  Data descriptors defined here:\n",
      "     |\n",
      "     |  __dict__\n",
      "     |      dictionary for instance variables\n",
      "     |\n",
      "     |  __weakref__\n",
      "     |      list of weak references to the object\n",
      "     |\n",
      "     |  ----------------------------------------------------------------------\n",
      "     |  Data and other attributes defined here:\n",
      "     |\n",
      "     |  braceidpattern = None\n",
      "     |\n",
      "     |  delimiter = '$'\n",
      "     |\n",
      "     |  flags = re.IGNORECASE\n",
      "     |\n",
      "     |  idpattern = '(?a:[_a-z][_a-z0-9]*)'\n",
      "     |\n",
      "     |  pattern = re.compile('\\n            \\\\$(?:\\n              ...identifie...\n",
      "\n",
      "FUNCTIONS\n",
      "    capwords(s, sep=None)\n",
      "        capwords(s [,sep]) -> string\n",
      "\n",
      "        Split the argument into words using split, capitalize each\n",
      "        word using capitalize, and join the capitalized words using\n",
      "        join.  If the optional second argument sep is absent or None,\n",
      "        runs of whitespace characters are replaced by a single space\n",
      "        and leading and trailing whitespace are removed, otherwise\n",
      "        sep is used to split and join the words.\n",
      "\n",
      "DATA\n",
      "    __all__ = ['ascii_letters', 'ascii_lowercase', 'ascii_uppercase', 'cap...\n",
      "    ascii_letters = 'abcdefghijklmnopqrstuvwxyzABCDEFGHIJKLMNOPQRSTUVWXYZ'\n",
      "    ascii_lowercase = 'abcdefghijklmnopqrstuvwxyz'\n",
      "    ascii_uppercase = 'ABCDEFGHIJKLMNOPQRSTUVWXYZ'\n",
      "    digits = '0123456789'\n",
      "    hexdigits = '0123456789abcdefABCDEF'\n",
      "    octdigits = '01234567'\n",
      "    printable = '0123456789abcdefghijklmnopqrstuvwxyzABCDEFGHIJKLMNOPQRSTU...\n",
      "    punctuation = '!\"#$%&\\'()*+,-./:;<=>?@[\\\\]^_`{|}~'\n",
      "    whitespace = ' \\t\\n\\r\\x0b\\x0c'\n",
      "\n",
      "FILE\n",
      "    c:\\users\\muthu\\miniconda3\\envs\\venv\\lib\\string.py\n",
      "\n",
      "\n"
     ]
    }
   ],
   "source": [
    "import string\n",
    "help(string)"
   ]
  },
  {
   "cell_type": "markdown",
   "metadata": {},
   "source": [
    "# Chained comparison"
   ]
  },
  {
   "cell_type": "code",
   "execution_count": 8,
   "metadata": {},
   "outputs": [
    {
     "name": "stdout",
     "output_type": "stream",
     "text": [
      "1 < 2 < 3 ::True\n",
      "1 < 2 > -5 < 50 > 4:: True\n"
     ]
    }
   ],
   "source": [
    "print(f\"1 < 2 < 3 ::{1 < 2 < 3}\")\n",
    "print(f\"1 < 2 > -5 < 50 > 4:: {1 < 2 > -5 < 50 > 4}\")"
   ]
  },
  {
   "cell_type": "markdown",
   "metadata": {},
   "source": [
    "<h1 align='center'>Positional Arguments</h1>\n",
    "\n",
    "- if we define paramed value with name following mustgohead with  named\n",
    "\n",
    "- [X] Tuple Unpacking\n",
    "- [X] Expanded Unpacking\n",
    "- [X] (*) means exhaust consuming rest assure kw-args"
   ]
  },
  {
   "cell_type": "code",
   "execution_count": 9,
   "metadata": {},
   "outputs": [],
   "source": [
    "def foo(a,b,c,*args,kw1=1,**kwargs):\n",
    "    print(a,b,c,args,kw1,kwargs)"
   ]
  },
  {
   "cell_type": "code",
   "execution_count": 10,
   "metadata": {},
   "outputs": [
    {
     "name": "stdout",
     "output_type": "stream",
     "text": [
      "[1, 2, 3, 4] <class 'list'>\n"
     ]
    }
   ],
   "source": [
    "l = [1,2,3,4]\n",
    "print(l,type(l))"
   ]
  },
  {
   "cell_type": "code",
   "execution_count": 11,
   "metadata": {},
   "outputs": [
    {
     "name": "stdout",
     "output_type": "stream",
     "text": [
      "a:1, b:2, c:3, d:4\n"
     ]
    }
   ],
   "source": [
    "a,b,c,d = l\n",
    "print(f\"a:{a}, b:{b}, c:{c}, d:{d}\")"
   ]
  },
  {
   "cell_type": "code",
   "execution_count": 12,
   "metadata": {},
   "outputs": [
    {
     "name": "stdout",
     "output_type": "stream",
     "text": [
      "a:p, b:y, c:3\n"
     ]
    }
   ],
   "source": [
    "a,b,c  = \"py3\"\n",
    "print(f\"a:{a}, b:{b}, c:{c}\")"
   ]
  },
  {
   "cell_type": "code",
   "execution_count": 13,
   "metadata": {},
   "outputs": [
    {
     "name": "stdout",
     "output_type": "stream",
     "text": [
      "a:1, b:[2, 3, 4]\n"
     ]
    }
   ],
   "source": [
    "l = [1,2,3,4]\n",
    "a,*b = l                # a=l[0]; b =l[1:]\n",
    "print(f\"a:{a}, b:{b}\")"
   ]
  },
  {
   "cell_type": "code",
   "execution_count": 14,
   "metadata": {},
   "outputs": [
    {
     "name": "stdout",
     "output_type": "stream",
     "text": [
      "a:1, b:2, c:3, d:4, rest:[]\n"
     ]
    }
   ],
   "source": [
    "l = [1,2,3,4]\n",
    "a,b,c,d,*rest = l                # a=l[0]; b =l[1:]\n",
    "print(f\"a:{a}, b:{b}, c:{c}, d:{d}, rest:{rest}\")"
   ]
  },
  {
   "cell_type": "code",
   "execution_count": 15,
   "metadata": {},
   "outputs": [
    {
     "name": "stdout",
     "output_type": "stream",
     "text": [
      "a:1, rest:[2, 3] , d:4\n"
     ]
    }
   ],
   "source": [
    "l = [1,2,3,4]\n",
    "a,*rest,d = l                # a=l[0]; b =l[1:]\n",
    "print(f\"a:{a}, rest:{rest} , d:{d}\")"
   ]
  },
  {
   "cell_type": "code",
   "execution_count": 16,
   "metadata": {},
   "outputs": [
    {
     "name": "stdout",
     "output_type": "stream",
     "text": [
      "[1, 2, 3, 4, 4, 5, 6, 7]\n"
     ]
    }
   ],
   "source": [
    "L1 = [1,2,3,4]\n",
    "L2 = [4,5,6,7]\n",
    "\n",
    "l = [*L1,*L2]   # unpacked things\n",
    "print(l)"
   ]
  },
  {
   "cell_type": "code",
   "execution_count": 17,
   "metadata": {},
   "outputs": [
    {
     "name": "stdout",
     "output_type": "stream",
     "text": [
      "['d', 33, 10, -99]\n"
     ]
    }
   ],
   "source": [
    "s = {10,-99,33,'d'}  # SET: order-ungrant \n",
    "*a, = s \n",
    "print(a)"
   ]
  },
  {
   "cell_type": "code",
   "execution_count": 18,
   "metadata": {},
   "outputs": [
    {
     "name": "stdout",
     "output_type": "stream",
     "text": [
      "{1, 2, 3, 4, 5, 8, 9}\n"
     ]
    }
   ],
   "source": [
    "s1 = {1,2,3,4,5}\n",
    "s2 = {4,1,8,9}\n",
    "\n",
    "s = {*s1,*s2}\n",
    "print(s)"
   ]
  },
  {
   "cell_type": "code",
   "execution_count": 19,
   "metadata": {},
   "outputs": [
    {
     "name": "stdout",
     "output_type": "stream",
     "text": [
      "{'k4', 'k2', 'k9', 'k5', 'k1', 'k8', 'k3'}\n",
      "{'k1': 10, 'k2': 2, 'k3': 3, 'k4': 40, 'k5': 5, 'k8': 8, 'k9': 9}\n"
     ]
    }
   ],
   "source": [
    "s1 = {'k1':1,'k2':2,'k3':3,'k4':4,'k5':5}\n",
    "s2 = {'k4':40,'k1':10,'k8':8,'k9':9}\n",
    "\n",
    "s = {*s1,*s2}\n",
    "kws = {**s1,**s2}\n",
    "\n",
    "print(s)\n",
    "print(kws)  # value from last taken\n"
   ]
  },
  {
   "cell_type": "code",
   "execution_count": 20,
   "metadata": {},
   "outputs": [
    {
     "data": {
      "text/plain": [
       "{'k1': 1, 'k2': 200, 'k3': 3}"
      ]
     },
     "execution_count": 20,
     "metadata": {},
     "output_type": "execute_result"
    }
   ],
   "source": [
    "s1 = {'k1':1,'k2':2}\n",
    "s2 = {'k2':3, 'k3':3}\n",
    "\n",
    "{'k1':100,**s1,**s2,'k2':200}"
   ]
  },
  {
   "cell_type": "code",
   "execution_count": 21,
   "metadata": {},
   "outputs": [
    {
     "name": "stdout",
     "output_type": "stream",
     "text": [
      "a:1, b:[2, 3], c:p, d:y, e:['t', 'h', 'o', 'n', '3']\n"
     ]
    }
   ],
   "source": [
    "a,*b,(c,d,*e)= [1,2,3,'python3']\n",
    "\n",
    "print(f\"a:{a}, b:{b}, c:{c}, d:{d}, e:{e}\")"
   ]
  },
  {
   "cell_type": "markdown",
   "metadata": {},
   "source": [
    "- [X] How it works in Function."
   ]
  },
  {
   "cell_type": "code",
   "execution_count": 22,
   "metadata": {},
   "outputs": [
    {
     "name": "stdout",
     "output_type": "stream",
     "text": [
      "a:10,b:20,args:(1, 2, 3, 4)\n"
     ]
    }
   ],
   "source": [
    "func1 = lambda a,b,*args: print(f\"a:{a},b:{b},args:{args}\")\n",
    "func1(10,20,1,2,3,4)"
   ]
  },
  {
   "cell_type": "code",
   "execution_count": 23,
   "metadata": {},
   "outputs": [
    {
     "name": "stdout",
     "output_type": "stream",
     "text": [
      "a:10, b:20, args:(1, 2, 3), d:100\n"
     ]
    }
   ],
   "source": [
    "func1 = lambda a,b,*args,d: print(f\"a:{a}, b:{b}, args:{args}, d:{d}\")\n",
    "\n",
    "func1(10,20,1,2,3,d=100)  # d is keyword-argument"
   ]
  },
  {
   "cell_type": "code",
   "execution_count": 24,
   "metadata": {},
   "outputs": [
    {
     "name": "stdout",
     "output_type": "stream",
     "text": [
      "avg(2,4,6,10): 5.5\n",
      "avg(): 0\n"
     ]
    }
   ],
   "source": [
    "avg = lambda *args : sum(args)/len(args) if len(args) else 0\n",
    "\n",
    "print(f'avg(2,4,6,10): {avg(2,4,6,10)}')\n",
    "print(f\"avg(): {avg()}\")"
   ]
  },
  {
   "cell_type": "code",
   "execution_count": 25,
   "metadata": {},
   "outputs": [
    {
     "name": "stdout",
     "output_type": "stream",
     "text": [
      "a:1\n"
     ]
    }
   ],
   "source": [
    "func1 = lambda *,a: print(f\"a:{a}\")\n",
    "\n",
    "func1(a=1)  # Everything is Keyword-argument"
   ]
  },
  {
   "cell_type": "code",
   "execution_count": 26,
   "metadata": {},
   "outputs": [
    {
     "name": "stdout",
     "output_type": "stream",
     "text": [
      "after positional every thing must follow positional\n"
     ]
    }
   ],
   "source": [
    "func1 = lambda *,a='hello',c : print(f'a:{a}, c:{c}')\n",
    "\n",
    "try:\n",
    "    func1(1,2,43,c=2)\n",
    "except Exception as e:\n",
    "    print(\"after positional every thing must follow positional\")"
   ]
  },
  {
   "cell_type": "code",
   "execution_count": 27,
   "metadata": {},
   "outputs": [
    {
     "name": "stdout",
     "output_type": "stream",
     "text": [
      "args:(1, 2, 3, 4), kwargs:{'a': 'a', 'b': 'b', 'c': 'c'}\n"
     ]
    }
   ],
   "source": [
    "func1 = lambda *args,**kwargs: print(f'args:{args}, kwargs:{kwargs}')\n",
    "\n",
    "func1(1,2,3,4,a='a',b='b',c='c')"
   ]
  },
  {
   "cell_type": "code",
   "execution_count": 28,
   "metadata": {},
   "outputs": [],
   "source": [
    "# def func1(*,**kwargs):\n",
    "#     print(kwargs)\n",
    "# 👆 won't work"
   ]
  },
  {
   "cell_type": "code",
   "execution_count": 29,
   "metadata": {},
   "outputs": [
    {
     "name": "stdout",
     "output_type": "stream",
     "text": [
      "d:1\n",
      "kwargs:{'a': 'a', 'b': 'b'}\n"
     ]
    }
   ],
   "source": [
    "def func1(*,d,**kwargs):\n",
    "    print(f\"d:{d}\")\n",
    "    print(f\"kwargs:{kwargs}\")\n",
    "\n",
    "\n",
    "# func1(1,2,3,4,d=5,a='a',b='b')\n",
    "func1(d=1,a='a',b='b')"
   ]
  }
 ],
 "metadata": {
  "kernelspec": {
   "display_name": "venv",
   "language": "python",
   "name": "python3"
  },
  "language_info": {
   "codemirror_mode": {
    "name": "ipython",
    "version": 3
   },
   "file_extension": ".py",
   "mimetype": "text/x-python",
   "name": "python",
   "nbconvert_exporter": "python",
   "pygments_lexer": "ipython3",
   "version": "3.12.3"
  }
 },
 "nbformat": 4,
 "nbformat_minor": 2
}
